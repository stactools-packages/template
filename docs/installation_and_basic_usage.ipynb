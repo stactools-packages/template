{
 "cells": [
  {
   "cell_type": "markdown",
   "id": "5c18bc99-c406-4e17-8036-810944f9b453",
   "metadata": {},
   "source": [
    "# Tutorial: Working with this stactools subpackage\n",
    "\n",
    "Stactools ([docs](https://stactools.readthedocs.io/en/latest/), [source](https://github.com/stac-utils/stactools)) is a command line tool and library for working with [STAC](https://stacspec.org/), based on [PySTAC](https://github.com/stac-utils/pystac). [Stactools packages](https://github.com/stactools-packages) are add-ons for stactools that provide STAC functionality for specific datasets, such as [Sentinel 2](https://github.com/stactools-packages/sentinel2) and [Landsat](https://github.com/stactools-packages/landsat). \n",
    "\n",
    "Stactools and its packages can be accessed from the CLI or from within normal Python code. This notebook provides examples of both."
   ]
  },
  {
   "cell_type": "markdown",
   "id": "67de3bce-5a81-4a41-a04e-af05c979d6f8",
   "metadata": {},
   "source": [
    "## 1. Installing stactools\n",
    "\n",
    "To use a package, first install `stactools` then the package. `stactools` can be installed with `pip`."
   ]
  },
  {
   "cell_type": "code",
   "execution_count": null,
   "id": "0f81ebc5-62ce-4884-b7ee-7533661787a2",
   "metadata": {},
   "outputs": [],
   "source": [
    "%pip install stactools"
   ]
  },
  {
   "cell_type": "markdown",
   "id": "0959bd18-aa99-4318-a7c6-e0f39f8ba081",
   "metadata": {},
   "source": [
    "Check that the `stac` CLI tool is installed"
   ]
  },
  {
   "cell_type": "code",
   "execution_count": 59,
   "id": "3d574e02-274a-4aba-b464-11e71b5b9036",
   "metadata": {},
   "outputs": [
    {
     "name": "stdout",
     "output_type": "stream",
     "text": [
      "Usage: stac [OPTIONS] COMMAND [ARGS]...\n",
      "\n",
      "Options:\n",
      "  -v, --verbose  Use verbose mode\n",
      "  -q, --quiet    Use quiet mode (no output)\n",
      "  --help         Show this message and exit.\n",
      "\n",
      "Commands:\n",
      "  copy            Copy a STAC Catalog\n",
      "  describe        Prints out a list of all catalogs, collections and items in\n",
      "                  this STAC.\n",
      "\n",
      "  info            Display info about a static STAC catalog.\n",
      "  layout          Reformat the layout of a STAC based on templating.\n",
      "  merge           Merge items from one STAC into another.\n",
      "  move-assets     Move or copy assets in a STAC to the Item locations.\n",
      "  nrcanlandcover  Commands for working with Natural Resources Canada Land\n",
      "                  Cover data\n",
      "\n",
      "  sentinel2       Commands for working with sentinel2 data\n",
      "  version         Display version info.\n"
     ]
    }
   ],
   "source": [
    "!stac"
   ]
  },
  {
   "cell_type": "markdown",
   "id": "b99ce54c-0c58-45d0-8528-fad272b4210c",
   "metadata": {},
   "source": [
    "Notice the Commands available. In the next step we will add a dataset to work with"
   ]
  },
  {
   "cell_type": "markdown",
   "id": "e8266d00-0cf2-46b0-af73-9e214dca1870",
   "metadata": {},
   "source": [
    "## 2. Installing a stactools package"
   ]
  },
  {
   "cell_type": "markdown",
   "id": "2967e333-ef58-4a83-9de3-2ddc3826f546",
   "metadata": {},
   "source": [
    "Here we'll use the subpackage that this notebook resides within, but feel free to change the `PACKAGE` variable to any one of the subpackage repo names in the [stactools-subpackages](https://github.com/stactools-packages). Other examples include `sentinel2`, `planet`, and `landsat`."
   ]
  },
  {
   "cell_type": "code",
   "execution_count": 83,
   "id": "ca0fed48-143b-46b0-a32e-cf7f2d7bdda8",
   "metadata": {},
   "outputs": [],
   "source": [
    "# Alter this to match your package\n",
    "PACKAGE = \"nrcan-landcover\""
   ]
  },
  {
   "cell_type": "code",
   "execution_count": null,
   "id": "715fca0f-aaab-4265-a5bb-1e005ce8d1cb",
   "metadata": {},
   "outputs": [],
   "source": [
    "%pip install stactools-{PACKAGE}"
   ]
  },
  {
   "cell_type": "markdown",
   "id": "00ffb84d-0412-4e77-bf6b-5dbb05fb2843",
   "metadata": {},
   "source": [
    "Notice the addition of the subpackage command in stactools now."
   ]
  },
  {
   "cell_type": "code",
   "execution_count": 53,
   "id": "e6b72b9d-340b-4101-b7f3-01d487727da5",
   "metadata": {},
   "outputs": [
    {
     "name": "stdout",
     "output_type": "stream",
     "text": [
      "Usage: stac [OPTIONS] COMMAND [ARGS]...\n",
      "\n",
      "Options:\n",
      "  -v, --verbose  Use verbose mode\n",
      "  -q, --quiet    Use quiet mode (no output)\n",
      "  --help         Show this message and exit.\n",
      "\n",
      "Commands:\n",
      "  copy            Copy a STAC Catalog\n",
      "  describe        Prints out a list of all catalogs, collections and items in\n",
      "                  this STAC.\n",
      "\n",
      "  info            Display info about a static STAC catalog.\n",
      "  layout          Reformat the layout of a STAC based on templating.\n",
      "  merge           Merge items from one STAC into another.\n",
      "  move-assets     Move or copy assets in a STAC to the Item locations.\n",
      "  nrcanlandcover  Commands for working with Natural Resources Canada Land\n",
      "                  Cover data\n",
      "\n",
      "  sentinel2       Commands for working with sentinel2 data\n",
      "  version         Display version info.\n"
     ]
    }
   ],
   "source": [
    "!stac"
   ]
  },
  {
   "cell_type": "markdown",
   "id": "4b050477-32f7-4c5b-9402-4bd0d7f5aaa1",
   "metadata": {},
   "source": [
    "## 3. Using the stactools subpackage"
   ]
  },
  {
   "cell_type": "markdown",
   "id": "383d21cd-a4c2-41d4-987a-72791ae4e46e",
   "metadata": {},
   "source": [
    "You can now explore the STAC package commands to ingest and describe the data"
   ]
  },
  {
   "cell_type": "code",
   "execution_count": 82,
   "id": "c7abe82f-19f9-4f79-acec-3c197f6fe41e",
   "metadata": {},
   "outputs": [],
   "source": [
    "# Alter this to match your package\n",
    "COMMAND = \"create-item\""
   ]
  },
  {
   "cell_type": "code",
   "execution_count": 78,
   "id": "46e87d6e-f843-4179-ae4b-1495ddd307f0",
   "metadata": {},
   "outputs": [
    {
     "name": "stdout",
     "output_type": "stream",
     "text": [
      "/bin/bash: -c: line 0: syntax error near unexpected token `('\n",
      "/bin/bash: -c: line 0: `stac {PACKAGE.replace(\"-\", \"\")} --help'\n"
     ]
    }
   ],
   "source": [
    "!stac {PACKAGE.replace(\"-\", \"\")} --help"
   ]
  },
  {
   "cell_type": "markdown",
   "id": "7afb3476-8dff-4b3f-a2f0-707779b8517e",
   "metadata": {},
   "source": [
    "And more specific help with an individual command."
   ]
  },
  {
   "cell_type": "code",
   "execution_count": 72,
   "id": "fe579e16-0a01-4be1-b01a-377e25372aed",
   "metadata": {},
   "outputs": [
    {
     "name": "stdout",
     "output_type": "stream",
     "text": [
      "Usage: stac nrcanlandcover create-item [OPTIONS]\n",
      "\n",
      "  Generate a STAC item using the metadata, with an asset url as provided.\n",
      "\n",
      "  Args:     destination (str): Local directory to save the STAC Item json\n",
      "  cog (str): location of a COG asset for the item     metadata (str): url\n",
      "  containing the NRCAN Landcover JSONLD metadata\n",
      "\n",
      "Options:\n",
      "  -d, --destination TEXT  The output directory for the STAC json  [required]\n",
      "  -c, --cog TEXT          COG href  [required]\n",
      "  -m, --metadata TEXT     The url to the metadata description.\n",
      "  --help                  Show this message and exit.\n"
     ]
    }
   ],
   "source": [
    "!stac {PACKAGE.replace(\"-\", \"\")} {COMMAND} --help"
   ]
  },
  {
   "cell_type": "markdown",
   "id": "c4794019-70a4-4831-a3ca-695e09e6296f",
   "metadata": {},
   "source": [
    "So far we've used Jupyter Notebooks' IPython [line magic](https://ipython.readthedocs.io/en/stable/interactive/magics.html) to work with stactools packages on the command line, but it's also possible to use them within Python scripts."
   ]
  },
  {
   "cell_type": "code",
   "execution_count": 73,
   "id": "404ec845-72d2-42d2-a20a-db1f16331869",
   "metadata": {},
   "outputs": [],
   "source": [
    "# Alter these with examples to match your package\n",
    "from stactools.nrcan_landcover import stac, cog\n",
    "\n",
    "stac.create_item()\n",
    "stac.create_collection()\n",
    "cog.create_cog()"
   ]
  },
  {
   "cell_type": "code",
   "execution_count": null,
   "id": "bd38eaa9-e4f6-4a2f-b546-7082cf3fb121",
   "metadata": {},
   "outputs": [],
   "source": []
  }
 ],
 "metadata": {
  "kernelspec": {
   "display_name": "Python 3 (ipykernel)",
   "language": "python",
   "name": "python3"
  },
  "language_info": {
   "codemirror_mode": {
    "name": "ipython",
    "version": 3
   },
   "file_extension": ".py",
   "mimetype": "text/x-python",
   "name": "python",
   "nbconvert_exporter": "python",
   "pygments_lexer": "ipython3",
   "version": "3.8.5"
  }
 },
 "nbformat": 4,
 "nbformat_minor": 5
}
